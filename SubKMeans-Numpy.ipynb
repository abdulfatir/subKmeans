{
 "cells": [
  {
   "cell_type": "code",
   "execution_count": 2,
   "metadata": {},
   "outputs": [],
   "source": [
    "%matplotlib inline\n",
    "from __future__ import print_function\n",
    "import numpy as np\n",
    "import numpy.linalg as LA\n",
    "import matplotlib.pyplot as plt\n",
    "import pycuda.driver as cuda\n",
    "import pycuda.autoinit\n",
    "from pycuda.compiler import SourceModule\n",
    "import pycuda.gpuarray as gpuarray\n",
    "import time\n",
    "from numpy import matmul as MM\n",
    "from sklearn.metrics import normalized_mutual_info_score as nmi\n",
    "import pycuda.driver as drv\n",
    "import time\n",
    "\n",
    "\n",
    "start = drv.Event()\n",
    "end = drv.Event()"
   ]
  },
  {
   "cell_type": "code",
   "execution_count": 3,
   "metadata": {},
   "outputs": [],
   "source": [
    "def load_dataset(name='seeds'):\n",
    "    if name == 'seeds':\n",
    "        with open('datasets/seeds_dataset.txt') as ds:\n",
    "            lines = ds.readlines()\n",
    "            X = []\n",
    "            Y = []\n",
    "            for line in lines:\n",
    "                x = line.split()\n",
    "                y = x[-1]\n",
    "                x = x[:-1]\n",
    "                X.append(x)\n",
    "                Y.append(y)\n",
    "            X = np.array(X, dtype=np.float)\n",
    "            Y = np.array(Y, dtype=np.uint8)\n",
    "            return X, Y\n",
    "    if name == 'wine':\n",
    "         with open('datasets/wine_dataset.txt') as ds:\n",
    "            lines = ds.readlines()\n",
    "            X = []\n",
    "            Y = []\n",
    "            for line in lines:\n",
    "                x = line.strip().split(',')\n",
    "                y = x[0]\n",
    "                x = x[1:]\n",
    "                X.append(x)\n",
    "                Y.append(y)\n",
    "            X = np.array(X, dtype=np.float)\n",
    "            Y = np.array(Y, dtype=np.uint8)\n",
    "            return X, Y  \n",
    "        \n",
    "    if name == 'soy':\n",
    "        with open('datasets/soybean_dataset.txt') as ds:\n",
    "            lines = ds.readlines()\n",
    "            X = []\n",
    "            Y = []\n",
    "            for line in lines:\n",
    "                x = line.strip().split(',')\n",
    "                y = x[-1]\n",
    "                x = x[:-1]\n",
    "                X.append(x)\n",
    "                Y.append(int(y[-1]) - 1)\n",
    "            X = np.array(X, dtype=np.float)\n",
    "            Y = np.array(Y, dtype=np.uint8)\n",
    "            return X, Y  \n",
    "    if name == 'hand':\n",
    "        with open('datasets/handjob_dataset.txt') as ds:\n",
    "            lines = ds.readlines()\n",
    "            X = []\n",
    "            Y = []\n",
    "            for line in lines:\n",
    "                x = line.strip().split(',')\n",
    "                y = x[0]\n",
    "                x = x[1:]\n",
    "                X.append(x)\n",
    "                Y.append(y)\n",
    "            X = np.array(X, dtype=np.float)\n",
    "            Y = np.array(Y, dtype=np.uint8)\n",
    "            Y = Y if np.min(Y) == 0 else Y-1\n",
    "            return X, Y  \n",
    "    if name == 'olive':\n",
    "        with open('datasets/olive_dataset.txt') as ds:\n",
    "            lines = ds.readlines()\n",
    "            X = []\n",
    "            Y = []\n",
    "            for line in lines:\n",
    "                x = line.strip().split(',')\n",
    "                y = x[0]\n",
    "                x = x[1:]\n",
    "                X.append(x)\n",
    "                Y.append(y)\n",
    "            X = np.array(X, dtype=np.float)\n",
    "            Y = np.array(Y, dtype=np.uint8)\n",
    "            Y = Y if np.min(Y) == 0 else Y-1\n",
    "            return X, Y\n",
    "    if name == 'symbol':\n",
    "        with open('datasets/symbol_dataset.txt') as ds:\n",
    "            lines = ds.readlines()\n",
    "            X = []\n",
    "            Y = []\n",
    "            for line in lines:\n",
    "                x = line.strip().split(',')\n",
    "                y = x[0]\n",
    "                x = x[1:]\n",
    "                X.append(x)\n",
    "                Y.append(y)\n",
    "            X = np.array(X, dtype=np.float)\n",
    "            Y = np.array(Y, dtype=np.uint8)\n",
    "            Y = Y if np.min(Y) == 0 else Y-1\n",
    "            return X, Y  \n",
    "    if name == 'plane':\n",
    "        with open('datasets/plane_dataset.txt') as ds:\n",
    "            lines = ds.readlines()\n",
    "            X = []\n",
    "            Y = []\n",
    "            for line in lines:\n",
    "                x = line.strip().split(',')\n",
    "                y = x[0]\n",
    "                x = x[1:]\n",
    "                X.append(x)\n",
    "                Y.append(y)\n",
    "            X = np.array(X, dtype=np.float)\n",
    "            Y = np.array(Y, dtype=np.uint8)\n",
    "            Y = Y if np.min(Y) == 0 else Y-1\n",
    "            return X, Y  \n",
    "    if name == 'mnist':\n",
    "        with open('datasets/mnist_dataset.txt') as ds:\n",
    "            lines = ds.readlines()\n",
    "            X = []\n",
    "            Y = []\n",
    "            for line in lines:\n",
    "                x = line.strip().split(',')\n",
    "                y = x[0]\n",
    "                x = x[1:]\n",
    "                X.append(x)\n",
    "                Y.append(int(float(y)))\n",
    "            X = np.array(X, dtype=np.float)\n",
    "            Y = np.array(Y, dtype=np.uint8)\n",
    "            Y = Y if np.min(Y) == 0 else Y-1\n",
    "            return X, Y  "
   ]
  },
  {
   "cell_type": "code",
   "execution_count": 4,
   "metadata": {},
   "outputs": [],
   "source": [
    "def normalize_dataset(X):\n",
    "    n, d = X.shape\n",
    "    for i in range(d):\n",
    "        mu = np.mean(X[:, i])\n",
    "        std = np.std(X[:, i]) + 1e-10\n",
    "        X[:, i] = (X[:, i] - mu)/std\n",
    "    return X"
   ]
  },
  {
   "cell_type": "code",
   "execution_count": 5,
   "metadata": {},
   "outputs": [],
   "source": [
    "def random_V(d):\n",
    "    \n",
    "    \n",
    "    V = np.random.uniform(0, 1, [d, d])\n",
    "    \n",
    "    \n",
    "    start.record()\n",
    "    start.synchronize()\n",
    "    \n",
    "    V = LA.qr(V, mode='complete')[0]\n",
    "    \n",
    "    end.record()\n",
    "    end.synchronize()\n",
    "    print(\"Orthonormal time cpu: \",start.time_till(end)*1e-3)\n",
    "    \n",
    "    return V"
   ]
  },
  {
   "cell_type": "code",
   "execution_count": 6,
   "metadata": {},
   "outputs": [],
   "source": [
    "def projection_matrices(d, m):\n",
    "    Pc = np.zeros([d, m], dtype=np.uint8)\n",
    "    Pc[:m, :m] = np.eye(m, dtype=np.uint8)\n",
    "    # Pn = Pc ^ np.eye(d, dtype=np.uint8)\n",
    "    return Pc"
   ]
  },
  {
   "cell_type": "code",
   "execution_count": 7,
   "metadata": {},
   "outputs": [],
   "source": [
    "def sub_kmeans(X, k):\n",
    "    \n",
    "    n, d = X.shape\n",
    "    V = random_V(d)\n",
    "    m = d/2\n",
    "    \n",
    "    # Algorithm line 5\n",
    "    #################################################################################\n",
    "    start = drv.Event()\n",
    "    end = drv.Event()\n",
    "    start.record()\n",
    "    start.synchronize()\n",
    "    \n",
    "    \n",
    "    mu_D = np.mean(X, axis=0, keepdims=True)\n",
    "    \n",
    "    end.record()\n",
    "    end.synchronize()\n",
    "    print(\"Mu_d cpu: \",start.time_till(end)*1e-3)\n",
    "    #################################################################################\n",
    "    \n",
    "    # Algorithm line 6\n",
    "    #################################################################################\n",
    "    start.record()\n",
    "    start.synchronize()\n",
    "    \n",
    "    S_D = MM((X - mu_D).T, (X - mu_D)) # Check this using loop\n",
    "    \n",
    "    end.record()\n",
    "    end.synchronize()\n",
    "    print(\"S_d cpu: \",start.time_till(end)*1e-3)\n",
    "    #################################################################################\n",
    "    \n",
    "    mu_is = X[np.random.choice(n, k)]\n",
    "    itr = 1\n",
    "    assignment_unchanged = 0\n",
    "    while True:\n",
    "        \n",
    "        Pc = projection_matrices(d, m)\n",
    "        \n",
    "        # Algorithm line 11\n",
    "        #################################################################################\n",
    "        start.record()\n",
    "        start.synchronize()\n",
    "        \n",
    "        PcV = MM(Pc.T, V.T)[None, :, :] # 1,m,d\n",
    "        PcVmu_is = MM(PcV, mu_is[:, :, None]) # k,m,1\n",
    " \n",
    "        X_trans = MM(PcV.squeeze(0), X.T).T # n, m\n",
    "        Mus_trans = PcVmu_is.squeeze(-1) # k, m\n",
    "        sq_diff = np.square(X_trans[:, None, :] - Mus_trans[None, :, :]) # n, k, m\n",
    "        sq_diff = np.sum(sq_diff, axis=-1)\n",
    "\n",
    "        \n",
    "        if itr % 2 == 0:\n",
    "            Cnew = np.argmin(sq_diff, axis=1)\n",
    "            points_changed = np.sum(1 - np.equal(C, Cnew).astype(np.uint8))\n",
    "            if points_changed == 0:\n",
    "                assignment_unchanged += 1\n",
    "            if assignment_unchanged >= 2:\n",
    "                break\n",
    "            print('\\nIter %d: %d points changed' % (itr, points_changed))\n",
    "            C = Cnew\n",
    "            # print(set(C))\n",
    "        else:\n",
    "            print(\"\\n\")\n",
    "            C = np.argmin(sq_diff, axis=1)\n",
    "            \n",
    "        end.record()\n",
    "        end.synchronize()\n",
    "        print(\"Argmin cpu: \",start.time_till(end)*1e-3)\n",
    "        #################################################################################    \n",
    "            \n",
    "        \n",
    "        # Algorithm line 14\n",
    "        #################################################################################\n",
    "        start.record()\n",
    "        start.synchronize()\n",
    "        \n",
    "        counts = {i:0 for i in range(k)}\n",
    "        mu_is = np.zeros([k, d])\n",
    "        S_is = np.zeros([k, d, d])\n",
    "        for i, x in enumerate(X):\n",
    "            c_id = C[i]\n",
    "            mu_is[c_id] += x\n",
    "            counts[c_id] += 1\n",
    "\n",
    "        mu_is = np.array([mu_is[i]/counts[i] for i in range(k)])\n",
    "        \n",
    "        end.record()\n",
    "        end.synchronize()\n",
    "        print(\"New_mu cpu: \",start.time_till(end)*1e-3)\n",
    "        #################################################################################    \n",
    "            \n",
    "        \n",
    "        \n",
    "        # Algorithm line 15\n",
    "        #################################################################################\n",
    "        start.record()\n",
    "        start.synchronize()\n",
    "                \n",
    "        C_matrics = {i:[] for i in range(k)}\n",
    "\n",
    "        for i, x in enumerate(X):\n",
    "            c_id = C[i]\n",
    "            x_minus_mu_isi = (x - mu_is[c_id]).T[:, None]\n",
    "            C_matrics[c_id].append(x_minus_mu_isi)\n",
    "        for ki in C_matrics:\n",
    "            CX_m = np.array(C_matrics[ki]).squeeze()\n",
    "            S_is[ki] = MM(CX_m.T, CX_m)\n",
    "        \n",
    "        end.record()\n",
    "        end.synchronize()\n",
    "        print(\"New_s_i cpu: \",start.time_till(end)*1e-3)\n",
    "        #################################################################################    \n",
    "            \n",
    "        \n",
    "        # Algorithm line 16\n",
    "        #################################################################################\n",
    "        start.record()\n",
    "        start.synchronize()\n",
    "        \n",
    "        Evals, Evecs = LA.eig(np.sum(S_is, axis=0) - S_D)\n",
    "        \n",
    "        end.record()\n",
    "        end.synchronize()\n",
    "        print(\"Eigen_decomp cpu: \",start.time_till(end)*1e-3)\n",
    "        #################################################################################    \n",
    "          \n",
    "        idx = np.argsort(Evals)\n",
    "        V = Evecs[:, idx]\n",
    "        maxVal = min(Evals)\n",
    "        if itr > 2:\n",
    "            m = np.sum([1 for i in Evals if i/maxVal > 1e-8])\n",
    "            m = max(1, m)\n",
    "        \n",
    "        itr += 1\n",
    "        \n",
    "    return C, V, m"
   ]
  },
  {
   "cell_type": "code",
   "execution_count": 9,
   "metadata": {},
   "outputs": [
    {
     "name": "stdout",
     "output_type": "stream",
     "text": [
      "Orthonormal time cpu:  0.125591842651\n",
      "Mu_d cpu:  0.00740412807465\n",
      "S_d cpu:  0.374516265869\n",
      "\n",
      "\n",
      "Argmin cpu:  0.518779541016\n",
      "New_mu cpu:  0.0353199691772\n",
      "New_s_i cpu:  0.309780853271\n",
      "Eigen_decomp cpu:  2.65453540039\n",
      "\n",
      "Iter 2: 2723 points changed\n",
      "Argmin cpu:  1.32084692383\n",
      "New_mu cpu:  0.0307662086487\n",
      "New_s_i cpu:  0.319939025879\n"
     ]
    },
    {
     "ename": "KeyboardInterrupt",
     "evalue": "",
     "output_type": "error",
     "traceback": [
      "\u001b[0;31m---------------------------------------------------------------------------\u001b[0m",
      "\u001b[0;31mKeyboardInterrupt\u001b[0m                         Traceback (most recent call last)",
      "\u001b[0;32m<ipython-input-9-cce9b104390f>\u001b[0m in \u001b[0;36m<module>\u001b[0;34m()\u001b[0m\n\u001b[1;32m      2\u001b[0m \u001b[0mX\u001b[0m \u001b[0;34m=\u001b[0m \u001b[0mnormalize_dataset\u001b[0m\u001b[0;34m(\u001b[0m\u001b[0mX\u001b[0m\u001b[0;34m)\u001b[0m\u001b[0;34m\u001b[0m\u001b[0m\n\u001b[1;32m      3\u001b[0m \u001b[0;32mfor\u001b[0m \u001b[0mi\u001b[0m \u001b[0;32min\u001b[0m \u001b[0mrange\u001b[0m\u001b[0;34m(\u001b[0m\u001b[0;36m1\u001b[0m\u001b[0;34m)\u001b[0m\u001b[0;34m:\u001b[0m\u001b[0;34m\u001b[0m\u001b[0m\n\u001b[0;32m----> 4\u001b[0;31m     \u001b[0mC\u001b[0m\u001b[0;34m,\u001b[0m \u001b[0mV\u001b[0m\u001b[0;34m,\u001b[0m \u001b[0mm\u001b[0m \u001b[0;34m=\u001b[0m \u001b[0msub_kmeans\u001b[0m\u001b[0;34m(\u001b[0m\u001b[0mX\u001b[0m\u001b[0;34m,\u001b[0m \u001b[0;36m10\u001b[0m\u001b[0;34m)\u001b[0m\u001b[0;34m\u001b[0m\u001b[0m\n\u001b[0m\u001b[1;32m      5\u001b[0m     \u001b[0mPc\u001b[0m \u001b[0;34m=\u001b[0m \u001b[0mprojection_matrices\u001b[0m\u001b[0;34m(\u001b[0m\u001b[0mX\u001b[0m\u001b[0;34m.\u001b[0m\u001b[0mshape\u001b[0m\u001b[0;34m[\u001b[0m\u001b[0;36m1\u001b[0m\u001b[0;34m]\u001b[0m\u001b[0;34m,\u001b[0m \u001b[0mm\u001b[0m\u001b[0;34m)\u001b[0m\u001b[0;34m\u001b[0m\u001b[0m\n\u001b[1;32m      6\u001b[0m     \u001b[0mtrans\u001b[0m \u001b[0;34m=\u001b[0m \u001b[0mV\u001b[0m\u001b[0;34m.\u001b[0m\u001b[0mT\u001b[0m\u001b[0;34m\u001b[0m\u001b[0m\n",
      "\u001b[0;32m<ipython-input-7-1c07a68e0c38>\u001b[0m in \u001b[0;36msub_kmeans\u001b[0;34m(X, k)\u001b[0m\n\u001b[1;32m    121\u001b[0m         \u001b[0mstart\u001b[0m\u001b[0;34m.\u001b[0m\u001b[0msynchronize\u001b[0m\u001b[0;34m(\u001b[0m\u001b[0;34m)\u001b[0m\u001b[0;34m\u001b[0m\u001b[0m\n\u001b[1;32m    122\u001b[0m \u001b[0;34m\u001b[0m\u001b[0m\n\u001b[0;32m--> 123\u001b[0;31m         \u001b[0mEvals\u001b[0m\u001b[0;34m,\u001b[0m \u001b[0mEvecs\u001b[0m \u001b[0;34m=\u001b[0m \u001b[0mLA\u001b[0m\u001b[0;34m.\u001b[0m\u001b[0meig\u001b[0m\u001b[0;34m(\u001b[0m\u001b[0mnp\u001b[0m\u001b[0;34m.\u001b[0m\u001b[0msum\u001b[0m\u001b[0;34m(\u001b[0m\u001b[0mS_is\u001b[0m\u001b[0;34m,\u001b[0m \u001b[0maxis\u001b[0m\u001b[0;34m=\u001b[0m\u001b[0;36m0\u001b[0m\u001b[0;34m)\u001b[0m \u001b[0;34m-\u001b[0m \u001b[0mS_D\u001b[0m\u001b[0;34m)\u001b[0m\u001b[0;34m\u001b[0m\u001b[0m\n\u001b[0m\u001b[1;32m    124\u001b[0m \u001b[0;34m\u001b[0m\u001b[0m\n\u001b[1;32m    125\u001b[0m         \u001b[0mend\u001b[0m\u001b[0;34m.\u001b[0m\u001b[0mrecord\u001b[0m\u001b[0;34m(\u001b[0m\u001b[0;34m)\u001b[0m\u001b[0;34m\u001b[0m\u001b[0m\n",
      "\u001b[0;32m/home/codebreaker/.virtualenvs/tensorflow/local/lib/python2.7/site-packages/numpy/linalg/linalg.pyc\u001b[0m in \u001b[0;36meig\u001b[0;34m(a)\u001b[0m\n\u001b[1;32m   1147\u001b[0m         _raise_linalgerror_eigenvalues_nonconvergence)\n\u001b[1;32m   1148\u001b[0m     \u001b[0msignature\u001b[0m \u001b[0;34m=\u001b[0m \u001b[0;34m'D->DD'\u001b[0m \u001b[0;32mif\u001b[0m \u001b[0misComplexType\u001b[0m\u001b[0;34m(\u001b[0m\u001b[0mt\u001b[0m\u001b[0;34m)\u001b[0m \u001b[0;32melse\u001b[0m \u001b[0;34m'd->DD'\u001b[0m\u001b[0;34m\u001b[0m\u001b[0m\n\u001b[0;32m-> 1149\u001b[0;31m     \u001b[0mw\u001b[0m\u001b[0;34m,\u001b[0m \u001b[0mvt\u001b[0m \u001b[0;34m=\u001b[0m \u001b[0m_umath_linalg\u001b[0m\u001b[0;34m.\u001b[0m\u001b[0meig\u001b[0m\u001b[0;34m(\u001b[0m\u001b[0ma\u001b[0m\u001b[0;34m,\u001b[0m \u001b[0msignature\u001b[0m\u001b[0;34m=\u001b[0m\u001b[0msignature\u001b[0m\u001b[0;34m,\u001b[0m \u001b[0mextobj\u001b[0m\u001b[0;34m=\u001b[0m\u001b[0mextobj\u001b[0m\u001b[0;34m)\u001b[0m\u001b[0;34m\u001b[0m\u001b[0m\n\u001b[0m\u001b[1;32m   1150\u001b[0m \u001b[0;34m\u001b[0m\u001b[0m\n\u001b[1;32m   1151\u001b[0m     \u001b[0;32mif\u001b[0m \u001b[0;32mnot\u001b[0m \u001b[0misComplexType\u001b[0m\u001b[0;34m(\u001b[0m\u001b[0mt\u001b[0m\u001b[0;34m)\u001b[0m \u001b[0;32mand\u001b[0m \u001b[0mall\u001b[0m\u001b[0;34m(\u001b[0m\u001b[0mw\u001b[0m\u001b[0;34m.\u001b[0m\u001b[0mimag\u001b[0m \u001b[0;34m==\u001b[0m \u001b[0;36m0.0\u001b[0m\u001b[0;34m)\u001b[0m\u001b[0;34m:\u001b[0m\u001b[0;34m\u001b[0m\u001b[0m\n",
      "\u001b[0;31mKeyboardInterrupt\u001b[0m: "
     ]
    }
   ],
   "source": [
    "X, Y = load_dataset('mnist')\n",
    "X = normalize_dataset(X)\n",
    "for i in range(1):\n",
    "    C, V, m = sub_kmeans(X, 10)\n",
    "    Pc = projection_matrices(X.shape[1], m)\n",
    "    trans = V.T\n",
    "    X_rotated = MM(trans[None, :, :], np.transpose(X[:, None, :], [0, 2, 1]))\n",
    "    X_rotated = X_rotated.squeeze(-1).T\n",
    "    acc = nmi(Y, C)\n",
    "    # print(acc)\n",
    "    print(m, acc)\n",
    "    plt.scatter(X_rotated[0], X_rotated[1], c=C)\n",
    "    plt.show()"
   ]
  },
  {
   "cell_type": "code",
   "execution_count": null,
   "metadata": {
    "collapsed": true
   },
   "outputs": [],
   "source": [
    "for i in range(9):\n",
    "    for j in range(i+1, 9):\n",
    "        plt.scatter(X_rotated[i], X_rotated[j], c=C)\n",
    "        plt.show()"
   ]
  },
  {
   "cell_type": "code",
   "execution_count": null,
   "metadata": {
    "collapsed": true
   },
   "outputs": [],
   "source": []
  },
  {
   "cell_type": "code",
   "execution_count": null,
   "metadata": {
    "collapsed": true
   },
   "outputs": [],
   "source": [
    "X_rotated.shape"
   ]
  },
  {
   "cell_type": "code",
   "execution_count": null,
   "metadata": {
    "collapsed": true
   },
   "outputs": [],
   "source": [
    "X_scala = np.loadtxt('/home/abdul/Documents/adm-project/SubKmeans/result/sample_result.dat', delimiter=';')"
   ]
  },
  {
   "cell_type": "code",
   "execution_count": null,
   "metadata": {
    "collapsed": true
   },
   "outputs": [],
   "source": [
    "X_scala.shape"
   ]
  },
  {
   "cell_type": "code",
   "execution_count": null,
   "metadata": {
    "collapsed": true
   },
   "outputs": [],
   "source": [
    "C = X_scala[:, 0]\n",
    "X_scala = X_scala[:, 1:]"
   ]
  },
  {
   "cell_type": "code",
   "execution_count": null,
   "metadata": {
    "collapsed": true
   },
   "outputs": [],
   "source": [
    "nmi(Y, C)"
   ]
  },
  {
   "cell_type": "code",
   "execution_count": null,
   "metadata": {
    "collapsed": true
   },
   "outputs": [],
   "source": [
    "plt.scatter(X_scala[:, 0], X_scala[:, 1], c=C)\n",
    "plt.show()"
   ]
  },
  {
   "cell_type": "code",
   "execution_count": null,
   "metadata": {
    "collapsed": true
   },
   "outputs": [],
   "source": [
    "C"
   ]
  },
  {
   "cell_type": "code",
   "execution_count": null,
   "metadata": {
    "collapsed": true
   },
   "outputs": [],
   "source": [
    "X, Y = load_dataset('wine')\n",
    "X = normalize_dataset(X)\n"
   ]
  },
  {
   "cell_type": "code",
   "execution_count": null,
   "metadata": {
    "collapsed": true
   },
   "outputs": [],
   "source": [
    "with open('/home/abdul/Documents/adm-project/SubKmeans/datasets/sample.dat', 'w') as f:\n",
    "    for i, x in enumerate(X):\n",
    "        f.write(str(Y[i]))\n",
    "        f.write(';')\n",
    "        f.write(';'.join(['%.15f'%j for j in x]))\n",
    "        f.write('\\n')"
   ]
  },
  {
   "cell_type": "code",
   "execution_count": null,
   "metadata": {
    "collapsed": true
   },
   "outputs": [],
   "source": [
    "def sub_kmeans_loopy(X, k):\n",
    "    n, d = X.shape\n",
    "    V = random_V(d)\n",
    "    m = d/2\n",
    "    mu_D = np.mean(X, axis=0, keepdims=True)\n",
    "    S_D = np.zeros([d, d])\n",
    "    \n",
    "    Pc = projection_matrices(d, m)\n",
    "    for e, x in enumerate(X):\n",
    "        x_minus_muD = (x - mu_D).T\n",
    "        S_D += MM(x_minus_muD, x_minus_muD.T)\n",
    "    mu_is = X[np.random.choice(n, k)]\n",
    "    itr = 0\n",
    "    while itr < 200:\n",
    "        C = {i:[] for i in range(k)}\n",
    "        ass = np.zeros(n, dtype=np.uint8) - 1\n",
    "        Pc = projection_matrices(d, m)\n",
    "        trans = MM(Pc.T, V.T)\n",
    "        for k_num, x in enumerate(X):\n",
    "            j = -1\n",
    "            min_dist = 1e10\n",
    "            for i, mu_i in enumerate(mu_is):\n",
    "                vec_dist = MM(trans, x[:, None]) -  MM(trans, mu_i[:, None])\n",
    "                dist = MM(vec_dist.T, vec_dist)[0, 0]\n",
    "                if dist < min_dist:\n",
    "                    min_dist = dist\n",
    "                    j = i\n",
    "            C[j].append(x)\n",
    "            ass[k_num] = j\n",
    "        S = np.zeros([k, d, d])\n",
    "        for i in range(k):\n",
    "            X_in_Ci = np.array(C[i])\n",
    "            mu_is[i] = np.mean(X_in_Ci, axis=0)\n",
    "            for x in X_in_Ci:\n",
    "                x_minus_mu_isi = (x - mu_is[i]).T[:, None]\n",
    "                S[i] += MM(x_minus_mu_isi, x_minus_mu_isi.T)\n",
    "        sum_S = np.sum(S, axis=0)\n",
    "        Evals, Evecs = LA.eig((sum_S - S_D))\n",
    "#         print(Evals.shape)\n",
    "        idx = np.argsort(Evals)\n",
    "#         print(Evals.shape)\n",
    "        V = Evecs[:, idx]\n",
    "        maxVal = min(Evals)\n",
    "        if itr > 1:\n",
    "            m = np.sum([1 for i in Evals if i/maxVal > 1e-8])\n",
    "            m = max(1, m)\n",
    "        itr += 1\n",
    "        ccc = nmi(Y, ass)\n",
    "    return ass, V, m\n",
    "        \n",
    "            "
   ]
  },
  {
   "cell_type": "code",
   "execution_count": null,
   "metadata": {
    "collapsed": true
   },
   "outputs": [],
   "source": [
    "import tensorflow as tf\n",
    "mnist = tf.contrib.learn.datasets.load_dataset(\"mnist\")"
   ]
  },
  {
   "cell_type": "code",
   "execution_count": null,
   "metadata": {
    "collapsed": true
   },
   "outputs": [],
   "source": [
    "data = np.concatenate([mnist.test.labels[:, None], mnist.test.images], axis=1)\n",
    "np.savetxt('datasets/mnist_dataset.txt', data, delimiter=',', fmt='%.8f')"
   ]
  },
  {
   "cell_type": "code",
   "execution_count": null,
   "metadata": {
    "collapsed": true
   },
   "outputs": [],
   "source": []
  }
 ],
 "metadata": {
  "kernelspec": {
   "display_name": "Python 2",
   "language": "python",
   "name": "python2"
  },
  "language_info": {
   "codemirror_mode": {
    "name": "ipython",
    "version": 2
   },
   "file_extension": ".py",
   "mimetype": "text/x-python",
   "name": "python",
   "nbconvert_exporter": "python",
   "pygments_lexer": "ipython2",
   "version": "2.7.12"
  }
 },
 "nbformat": 4,
 "nbformat_minor": 2
}
