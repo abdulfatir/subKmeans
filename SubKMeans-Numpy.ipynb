{
 "cells": [
  {
   "cell_type": "code",
   "execution_count": 1,
   "metadata": {
    "collapsed": true
   },
   "outputs": [],
   "source": [
    "%matplotlib inline\n",
    "from __future__ import print_function\n",
    "import numpy as np\n",
    "import numpy.linalg as LA\n",
    "import matplotlib.pyplot as plt\n",
    "import numpy.matmul as MM"
   ]
  },
  {
   "cell_type": "code",
   "execution_count": null,
   "metadata": {
    "collapsed": true
   },
   "outputs": [],
   "source": [
    "def random_V(d):\n",
    "    V = np.random.uniform(-1, 1, [d, d])\n",
    "    V = LA.qr(V, mode='complete')[0]\n",
    "    return V"
   ]
  },
  {
   "cell_type": "code",
   "execution_count": null,
   "metadata": {
    "collapsed": true
   },
   "outputs": [],
   "source": [
    "def projection_matrices(d, m):\n",
    "    Pc = np.zeros([d, d], dtype=np.uint8)\n",
    "    Pc[:m, :m] = np.eye(m, dtype=np.uint8)\n",
    "    Pn = Pc ^ np.eye(d, dtype=np.uint8)\n",
    "    return Pc, Pn"
   ]
  },
  {
   "cell_type": "code",
   "execution_count": null,
   "metadata": {
    "collapsed": true
   },
   "outputs": [],
   "source": [
    "def sub_kmeans(X, k):\n",
    "    n, d = X.shape\n",
    "    V = random_V(d)\n",
    "    m = d/2\n",
    "    mu_D = np.mean(X, axis=0, keepdims=True)\n",
    "    S_D = np.sum(MM((X - mu_D).T), (X - mu_D))\n",
    "    mu_is = X[np.random.choice(n, k)]\n",
    "    \n",
    "    while True:\n",
    "        Pc, _ = projection_matrices(d, m)\n",
    "        PcV = MM(Pc.T, V.T)[None, :, :]\n",
    "        sq_diff = np.square(MM(PcV, X[:, :, None])[:, None, :, :] - mu_is[None, :, :, None])\n",
    "        sq_diff = np.sum(sq_diff, axis=[-1, -2])\n",
    "        C = np.argmax(sq_diff, axis=-1)\n",
    "        "
   ]
  }
 ],
 "metadata": {
  "kernelspec": {
   "display_name": "Python 2",
   "language": "python",
   "name": "python2"
  },
  "language_info": {
   "codemirror_mode": {
    "name": "ipython",
    "version": 2
   },
   "file_extension": ".py",
   "mimetype": "text/x-python",
   "name": "python",
   "nbconvert_exporter": "python",
   "pygments_lexer": "ipython2",
   "version": "2.7.14"
  }
 },
 "nbformat": 4,
 "nbformat_minor": 2
}
