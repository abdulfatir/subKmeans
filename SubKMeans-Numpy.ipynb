{
 "cells": [
  {
   "cell_type": "code",
   "execution_count": null,
   "metadata": {
    "collapsed": true
   },
   "outputs": [],
   "source": [
    "%matplotlib inline\n",
    "from __future__ import print_function\n",
    "import numpy as np\n",
    "import numpy.linalg as LA\n",
    "import matplotlib.pyplot as plt\n",
    "import time\n",
    "from numpy import matmul as MM\n",
    "from sklearn.metrics import normalized_mutual_info_score as nmi\n",
    "import time"
   ]
  },
  {
   "cell_type": "code",
   "execution_count": null,
   "metadata": {
    "collapsed": true
   },
   "outputs": [],
   "source": [
    "def load_dataset(name='seeds'):\n",
    "    if name == 'seeds':\n",
    "        with open('datasets/seeds_dataset.txt') as ds:\n",
    "            lines = ds.readlines()\n",
    "            X = []\n",
    "            Y = []\n",
    "            for line in lines:\n",
    "                x = line.split()\n",
    "                y = x[-1]\n",
    "                x = x[:-1]\n",
    "                X.append(x)\n",
    "                Y.append(y)\n",
    "            X = np.array(X, dtype=np.float)\n",
    "            Y = np.array(Y, dtype=np.uint8)\n",
    "            return X, Y\n",
    "    if name == 'wine':\n",
    "         with open('datasets/wine_dataset.txt') as ds:\n",
    "            lines = ds.readlines()\n",
    "            X = []\n",
    "            Y = []\n",
    "            for line in lines:\n",
    "                x = line.strip().split(',')\n",
    "                y = x[0]\n",
    "                x = x[1:]\n",
    "                X.append(x)\n",
    "                Y.append(y)\n",
    "            X = np.array(X, dtype=np.float)\n",
    "            Y = np.array(Y, dtype=np.uint8)\n",
    "            return X, Y  \n",
    "        \n",
    "    if name == 'soy':\n",
    "        with open('datasets/soybean_dataset.txt') as ds:\n",
    "            lines = ds.readlines()\n",
    "            X = []\n",
    "            Y = []\n",
    "            for line in lines:\n",
    "                x = line.strip().split(',')\n",
    "                y = x[-1]\n",
    "                x = x[:-1]\n",
    "                X.append(x)\n",
    "                Y.append(int(y[-1]) - 1)\n",
    "            X = np.array(X, dtype=np.float)\n",
    "            Y = np.array(Y, dtype=np.uint8)\n",
    "            return X, Y  \n",
    "    if name == 'hand':\n",
    "        with open('datasets/handjob_dataset.txt') as ds:\n",
    "            lines = ds.readlines()\n",
    "            X = []\n",
    "            Y = []\n",
    "            for line in lines:\n",
    "                x = line.strip().split(',')\n",
    "                y = x[0]\n",
    "                x = x[1:]\n",
    "                X.append(x)\n",
    "                Y.append(y)\n",
    "            X = np.array(X, dtype=np.float)\n",
    "            Y = np.array(Y, dtype=np.uint8)\n",
    "            Y = Y if np.min(Y) == 0 else Y-1\n",
    "            return X, Y  \n",
    "    if name == 'olive':\n",
    "        with open('datasets/olive_dataset.txt') as ds:\n",
    "            lines = ds.readlines()\n",
    "            X = []\n",
    "            Y = []\n",
    "            for line in lines:\n",
    "                x = line.strip().split(',')\n",
    "                y = x[0]\n",
    "                x = x[1:]\n",
    "                X.append(x)\n",
    "                Y.append(y)\n",
    "            X = np.array(X, dtype=np.float)\n",
    "            Y = np.array(Y, dtype=np.uint8)\n",
    "            Y = Y if np.min(Y) == 0 else Y-1\n",
    "            return X, Y\n",
    "    if name == 'symbol':\n",
    "        with open('datasets/symbol_dataset.txt') as ds:\n",
    "            lines = ds.readlines()\n",
    "            X = []\n",
    "            Y = []\n",
    "            for line in lines:\n",
    "                x = line.strip().split(',')\n",
    "                y = x[0]\n",
    "                x = x[1:]\n",
    "                X.append(x)\n",
    "                Y.append(y)\n",
    "            X = np.array(X, dtype=np.float)\n",
    "            Y = np.array(Y, dtype=np.uint8)\n",
    "            Y = Y if np.min(Y) == 0 else Y-1\n",
    "            return X, Y  \n",
    "    if name == 'plane':\n",
    "        with open('datasets/plane_dataset.txt') as ds:\n",
    "            lines = ds.readlines()\n",
    "            X = []\n",
    "            Y = []\n",
    "            for line in lines:\n",
    "                x = line.strip().split(',')\n",
    "                y = x[0]\n",
    "                x = x[1:]\n",
    "                X.append(x)\n",
    "                Y.append(y)\n",
    "            X = np.array(X, dtype=np.float)\n",
    "            Y = np.array(Y, dtype=np.uint8)\n",
    "            Y = Y if np.min(Y) == 0 else Y-1\n",
    "            return X, Y  \n",
    "    if name == 'mnist':\n",
    "        with open('datasets/mnist_dataset.txt') as ds:\n",
    "            lines = ds.readlines()\n",
    "            X = []\n",
    "            Y = []\n",
    "            for line in lines:\n",
    "                x = line.strip().split(',')\n",
    "                y = x[0]\n",
    "                x = x[1:]\n",
    "                X.append(x)\n",
    "                Y.append(int(float(y)))\n",
    "            X = np.array(X, dtype=np.float)\n",
    "            Y = np.array(Y, dtype=np.uint8)\n",
    "            Y = Y if np.min(Y) == 0 else Y-1\n",
    "            return X, Y  "
   ]
  },
  {
   "cell_type": "code",
   "execution_count": null,
   "metadata": {
    "collapsed": true
   },
   "outputs": [],
   "source": [
    "def normalize_dataset(X):\n",
    "    n, d = X.shape\n",
    "    for i in range(d):\n",
    "        mu = np.mean(X[:, i])\n",
    "        std = np.std(X[:, i]) + 1e-10\n",
    "        X[:, i] = (X[:, i] - mu)/std\n",
    "    return X"
   ]
  },
  {
   "cell_type": "code",
   "execution_count": null,
   "metadata": {
    "collapsed": true
   },
   "outputs": [],
   "source": [
    "def random_V(d):\n",
    "    V = np.random.uniform(0, 1, [d, d])\n",
    "    V = LA.qr(V, mode='complete')[0]\n",
    "    return V"
   ]
  },
  {
   "cell_type": "code",
   "execution_count": null,
   "metadata": {
    "collapsed": true
   },
   "outputs": [],
   "source": [
    "def projection_matrices(d, m):\n",
    "    Pc = np.zeros([d, m], dtype=np.uint8)\n",
    "    Pc[:m, :m] = np.eye(m, dtype=np.uint8)\n",
    "    # Pn = Pc ^ np.eye(d, dtype=np.uint8)\n",
    "    return Pc"
   ]
  },
  {
   "cell_type": "code",
   "execution_count": null,
   "metadata": {},
   "outputs": [],
   "source": [
    "def sub_kmeans(X, k):\n",
    "    \n",
    "    n, d = X.shape\n",
    "    V = random_V(d)\n",
    "    m = d/2\n",
    "    mu_D = np.mean(X, axis=0, keepdims=True)\n",
    "    S_D = MM((X - mu_D).T, (X - mu_D)) # Check this using loop\n",
    "    mu_is = X[np.random.choice(n, k)]\n",
    "    itr = 1\n",
    "    assignment_unchanged = 0\n",
    "    while True:\n",
    "        \n",
    "        Pc = projection_matrices(d, m)\n",
    "        PcV = MM(Pc.T, V.T)[None, :, :]\n",
    "        PcVmu_is = MM(PcV, mu_is[:, :, None])\n",
    "        #print(PcV.shape)\n",
    "        start=time.time()\n",
    "        sq_diff = np.square(MM(PcV, X[:, :, None])[:, None, :, :] - PcVmu_is[None, :, :, :])\n",
    "        sq_diff = np.sum(sq_diff, axis=(2, 3))\n",
    "        end = time.time()\n",
    "        print(end-start)\n",
    "        if itr % 2 == 0:\n",
    "            Cnew = np.argmin(sq_diff, axis=1)\n",
    "            points_changed = np.sum(1 - np.equal(C, Cnew).astype(np.uint8))\n",
    "            if points_changed == 0:\n",
    "                assignment_unchanged += 1\n",
    "            if assignment_unchanged >= 2:\n",
    "                break\n",
    "            print('Iter %d: %d points changed' % (itr, points_changed))\n",
    "            C = Cnew\n",
    "            # print(set(C))\n",
    "        else:\n",
    "            C = np.argmin(sq_diff, axis=1)\n",
    "        counts = {i:0 for i in range(k)}\n",
    "        mu_is = np.zeros([k, d])\n",
    "        S_is = np.zeros([k, d, d])\n",
    "#         S_is2 = np.zeros([k, d, d])\n",
    "        for i, x in enumerate(X):\n",
    "            c_id = C[i]\n",
    "            mu_is[c_id] += x\n",
    "            counts[c_id] += 1\n",
    "        end = time.time()\n",
    "        print( end-start)\n",
    "        # print(mu_is)\n",
    "        mu_is = np.array([mu_is[i]/counts[i] for i in range(k)])\n",
    "        C_matrics = {i:[] for i in range(k)}\n",
    "        t1 = time.time()\n",
    "        for i, x in enumerate(X):\n",
    "            c_id = C[i]\n",
    "            x_minus_mu_isi = (x - mu_is[c_id]).T[:, None]\n",
    "            C_matrics[c_id].append(x_minus_mu_isi)\n",
    "#             S_is[c_id] += MM(x_minus_mu_isi, x_minus_mu_isi.T)\n",
    "        for ki in C_matrics:\n",
    "            CX_m = np.array(C_matrics[ki]).squeeze()\n",
    "            S_is[ki] = MM(CX_m.T, CX_m)\n",
    "        t2 = time.time()\n",
    "        Evals, Evecs = LA.eig(np.sum(S_is, axis=0) - S_D)\n",
    "        end = time.time()\n",
    "        print(end-start)\n",
    "        idx = np.argsort(Evals)\n",
    "        V = Evecs[:, idx]\n",
    "        maxVal = min(Evals)\n",
    "        if itr > 2:\n",
    "            m = np.sum([1 for i in Evals if i/maxVal > 1e-8])\n",
    "            m = max(1, m)\n",
    "        \n",
    "        itr += 1\n",
    "        \n",
    "        print(t2-t1)\n",
    "#         break\n",
    "        \n",
    "    return C, V, m"
   ]
  },
  {
   "cell_type": "code",
   "execution_count": null,
   "metadata": {},
   "outputs": [],
   "source": [
    "X, Y = load_dataset('hand')\n",
    "X = normalize_dataset(X)\n",
    "for i in range(1):\n",
    "    C, V, m = sub_kmeans(X, 3)\n",
    "    Pc = projection_matrices(X.shape[1], m)\n",
    "    trans = V.T\n",
    "    X_rotated = MM(trans[None, :, :], np.transpose(X[:, None, :], [0, 2, 1]))\n",
    "    X_rotated = X_rotated.squeeze(-1).T\n",
    "    acc = nmi(Y, C)\n",
    "    # print(acc)\n",
    "    print(m, acc)\n",
    "    plt.scatter(X_rotated[0], X_rotated[1], c=C)\n",
    "    plt.show()"
   ]
  },
  {
   "cell_type": "code",
   "execution_count": null,
   "metadata": {},
   "outputs": [],
   "source": [
    "for i in range(9):\n",
    "    for j in range(i+1, 9):\n",
    "        plt.scatter(X_rotated[i], X_rotated[j], c=C)\n",
    "        plt.show()"
   ]
  },
  {
   "cell_type": "code",
   "execution_count": null,
   "metadata": {},
   "outputs": [],
   "source": []
  },
  {
   "cell_type": "code",
   "execution_count": null,
   "metadata": {
    "collapsed": true
   },
   "outputs": [],
   "source": [
    "X_rotated.shape"
   ]
  },
  {
   "cell_type": "code",
   "execution_count": null,
   "metadata": {
    "collapsed": true
   },
   "outputs": [],
   "source": [
    "X_scala = np.loadtxt('/home/abdul/Documents/adm-project/SubKmeans/result/sample_result.dat', delimiter=';')"
   ]
  },
  {
   "cell_type": "code",
   "execution_count": null,
   "metadata": {
    "collapsed": true
   },
   "outputs": [],
   "source": [
    "X_scala.shape"
   ]
  },
  {
   "cell_type": "code",
   "execution_count": null,
   "metadata": {},
   "outputs": [],
   "source": [
    "C = X_scala[:, 0]\n",
    "X_scala = X_scala[:, 1:]"
   ]
  },
  {
   "cell_type": "code",
   "execution_count": null,
   "metadata": {
    "collapsed": true
   },
   "outputs": [],
   "source": [
    "nmi(Y, C)"
   ]
  },
  {
   "cell_type": "code",
   "execution_count": null,
   "metadata": {
    "collapsed": true
   },
   "outputs": [],
   "source": [
    "plt.scatter(X_scala[:, 0], X_scala[:, 1], c=C)\n",
    "plt.show()"
   ]
  },
  {
   "cell_type": "code",
   "execution_count": null,
   "metadata": {
    "collapsed": true
   },
   "outputs": [],
   "source": [
    "C"
   ]
  },
  {
   "cell_type": "code",
   "execution_count": null,
   "metadata": {
    "collapsed": true
   },
   "outputs": [],
   "source": [
    "X, Y = load_dataset('wine')\n",
    "X = normalize_dataset(X)\n"
   ]
  },
  {
   "cell_type": "code",
   "execution_count": null,
   "metadata": {
    "collapsed": true
   },
   "outputs": [],
   "source": [
    "with open('/home/abdul/Documents/adm-project/SubKmeans/datasets/sample.dat', 'w') as f:\n",
    "    for i, x in enumerate(X):\n",
    "        f.write(str(Y[i]))\n",
    "        f.write(';')\n",
    "        f.write(';'.join(['%.15f'%j for j in x]))\n",
    "        f.write('\\n')"
   ]
  },
  {
   "cell_type": "code",
   "execution_count": null,
   "metadata": {},
   "outputs": [],
   "source": [
    "def sub_kmeans_loopy(X, k):\n",
    "    n, d = X.shape\n",
    "    V = random_V(d)\n",
    "    m = d/2\n",
    "    mu_D = np.mean(X, axis=0, keepdims=True)\n",
    "    S_D = np.zeros([d, d])\n",
    "    \n",
    "    Pc = projection_matrices(d, m)\n",
    "    for e, x in enumerate(X):\n",
    "        x_minus_muD = (x - mu_D).T\n",
    "        S_D += MM(x_minus_muD, x_minus_muD.T)\n",
    "    mu_is = X[np.random.choice(n, k)]\n",
    "    itr = 0\n",
    "    while itr < 200:\n",
    "        C = {i:[] for i in range(k)}\n",
    "        ass = np.zeros(n, dtype=np.uint8) - 1\n",
    "        Pc = projection_matrices(d, m)\n",
    "        trans = MM(Pc.T, V.T)\n",
    "        for k_num, x in enumerate(X):\n",
    "            j = -1\n",
    "            min_dist = 1e10\n",
    "            for i, mu_i in enumerate(mu_is):\n",
    "                vec_dist = MM(trans, x[:, None]) -  MM(trans, mu_i[:, None])\n",
    "                dist = MM(vec_dist.T, vec_dist)[0, 0]\n",
    "                if dist < min_dist:\n",
    "                    min_dist = dist\n",
    "                    j = i\n",
    "            C[j].append(x)\n",
    "            ass[k_num] = j\n",
    "        S = np.zeros([k, d, d])\n",
    "        for i in range(k):\n",
    "            X_in_Ci = np.array(C[i])\n",
    "            mu_is[i] = np.mean(X_in_Ci, axis=0)\n",
    "            for x in X_in_Ci:\n",
    "                x_minus_mu_isi = (x - mu_is[i]).T[:, None]\n",
    "                S[i] += MM(x_minus_mu_isi, x_minus_mu_isi.T)\n",
    "        sum_S = np.sum(S, axis=0)\n",
    "        Evals, Evecs = LA.eig((sum_S - S_D))\n",
    "#         print(Evals.shape)\n",
    "        idx = np.argsort(Evals)\n",
    "#         print(Evals.shape)\n",
    "        V = Evecs[:, idx]\n",
    "        maxVal = min(Evals)\n",
    "        if itr > 1:\n",
    "            m = np.sum([1 for i in Evals if i/maxVal > 1e-8])\n",
    "            m = max(1, m)\n",
    "        itr += 1\n",
    "        ccc = nmi(Y, ass)\n",
    "    return ass, V, m\n",
    "        \n",
    "            "
   ]
  },
  {
   "cell_type": "code",
   "execution_count": null,
   "metadata": {
    "collapsed": true
   },
   "outputs": [],
   "source": [
    "import tensorflow as tf\n",
    "mnist = tf.contrib.learn.datasets.load_dataset(\"mnist\")"
   ]
  },
  {
   "cell_type": "code",
   "execution_count": null,
   "metadata": {
    "collapsed": true
   },
   "outputs": [],
   "source": [
    "data = np.concatenate([mnist.test.labels[:, None], mnist.test.images], axis=1)\n",
    "np.savetxt('datasets/mnist_dataset.txt', data, delimiter=',', fmt='%.8f')"
   ]
  },
  {
   "cell_type": "code",
   "execution_count": null,
   "metadata": {},
   "outputs": [],
   "source": []
  }
 ],
 "metadata": {
  "kernelspec": {
   "display_name": "Python 2",
   "language": "python",
   "name": "python2"
  },
  "language_info": {
   "codemirror_mode": {
    "name": "ipython",
    "version": 2
   },
   "file_extension": ".py",
   "mimetype": "text/x-python",
   "name": "python",
   "nbconvert_exporter": "python",
   "pygments_lexer": "ipython2",
   "version": "2.7.12"
  }
 },
 "nbformat": 4,
 "nbformat_minor": 2
}
