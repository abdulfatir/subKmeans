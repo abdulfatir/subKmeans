{
 "cells": [
  {
   "cell_type": "code",
   "execution_count": null,
   "metadata": {},
   "outputs": [],
   "source": [
    "%matplotlib inline\n",
    "from __future__ import print_function\n",
    "import numpy as np\n",
    "import numpy.linalg as LA\n",
    "import matplotlib.pyplot as plt\n",
    "from numpy import matmul as MM"
   ]
  },
  {
   "cell_type": "code",
   "execution_count": null,
   "metadata": {
    "collapsed": true
   },
   "outputs": [],
   "source": [
    "def load_dataset(name='seeds'):\n",
    "    if name == 'seeds':\n",
    "        with open('datasets/seeds_dataset.txt') as ds:\n",
    "            lines = ds.readlines()\n",
    "            X = []\n",
    "            Y = []\n",
    "            for line in lines:\n",
    "                x = line.split()\n",
    "                y = x[-1]\n",
    "                x = x[:-1]\n",
    "                X.append(x)\n",
    "                Y.append(y)\n",
    "            X = np.array(X, dtype=np.float)\n",
    "            Y = np.array(Y, dtype=np.uint8)\n",
    "            return X, Y\n",
    "    if name == 'wine':\n",
    "         with open('datasets/wine_dataset.txt') as ds:\n",
    "            lines = ds.readlines()\n",
    "            X = []\n",
    "            Y = []\n",
    "            for line in lines:\n",
    "                x = line.strip().split(',')\n",
    "                y = x[0]\n",
    "                x = x[1:]\n",
    "                X.append(x)\n",
    "                Y.append(y)\n",
    "            X = np.array(X, dtype=np.float)\n",
    "            Y = np.array(Y, dtype=np.uint8)\n",
    "            return X, Y       "
   ]
  },
  {
   "cell_type": "code",
   "execution_count": null,
   "metadata": {
    "collapsed": true
   },
   "outputs": [],
   "source": [
    "def normalize_dataset(X):\n",
    "    n, d = X.shape\n",
    "    for i in range(d):\n",
    "        mu = np.mean(X[:, i])\n",
    "        std = np.std(X[:, i])\n",
    "        X[:, i] = (X[:, i] - mu)/std\n",
    "    return X"
   ]
  },
  {
   "cell_type": "code",
   "execution_count": null,
   "metadata": {
    "collapsed": true
   },
   "outputs": [],
   "source": [
    "def random_V(d):\n",
    "    V = np.random.uniform(-1, 1, [d, d])\n",
    "    V = LA.qr(V, mode='complete')[0]\n",
    "    return V"
   ]
  },
  {
   "cell_type": "code",
   "execution_count": null,
   "metadata": {
    "collapsed": true
   },
   "outputs": [],
   "source": [
    "def projection_matrices(d, m):\n",
    "    Pc = np.zeros([d, d], dtype=np.uint8)\n",
    "    Pc[:m, :m] = np.eye(m, dtype=np.uint8)\n",
    "    Pn = Pc ^ np.eye(d, dtype=np.uint8)\n",
    "    return Pc, Pn"
   ]
  },
  {
   "cell_type": "code",
   "execution_count": null,
   "metadata": {
    "collapsed": true
   },
   "outputs": [],
   "source": [
    "def sub_kmeans(X, k):\n",
    "    n, d = X.shape\n",
    "    V = random_V(d)\n",
    "    m = d/2\n",
    "    mu_D = np.mean(X, axis=0, keepdims=True)\n",
    "    S_D = MM((X - mu_D).T, (X - mu_D))\n",
    "    print(S_D.shape)\n",
    "    mu_is = X[np.random.choice(n, k)]\n",
    "    print(mu_is.shape)\n",
    "    itr = 1\n",
    "    assignment_unchanged = 0\n",
    "    while True:\n",
    "        Pc, _ = projection_matrices(d, m)\n",
    "        PcV = MM(Pc.T, V.T)[None, :, :]\n",
    "        PcVmu_is = MM(PcV, mu_is[:, :, None])\n",
    "        #print(PcV.shape)\n",
    "        sq_diff = np.square(MM(PcV, X[:, :, None])[:, None, :, :] - PcVmu_is[None, :, :, :])\n",
    "        sq_diff = np.sum(sq_diff, axis=(-1, -2))\n",
    "        if itr % 5 == 0:\n",
    "            Cnew = np.argmin(sq_diff, axis=-1)\n",
    "            points_changed = np.sum(1 - np.equal(C, Cnew).astype(np.uint8))\n",
    "            if points_changed == 0:\n",
    "                assignment_unchanged += 1\n",
    "            if assignment_unchanged >= 2:\n",
    "                break\n",
    "            print('Iter %d: %d points changed' % (itr, points_changed))\n",
    "            C = Cnew\n",
    "            # print(set(C))\n",
    "        else:\n",
    "            C = np.argmin(sq_diff, axis=-1)\n",
    "        counts = {i:0 for i in range(k)}\n",
    "        mu_is = np.zeros([k, d])\n",
    "        S_is = np.zeros([k, d, d])\n",
    "        for i, x in enumerate(X):\n",
    "            c_id = C[i]\n",
    "            mu_is[c_id] += x\n",
    "            counts[c_id] += 1\n",
    "        # print(mu_is)\n",
    "        mu_is = np.array([mu_is[i]/counts[i] for i in range(k)])\n",
    "        # print(mu_is.shape)\n",
    "        for i, x in enumerate(X):\n",
    "            c_id = C[i]\n",
    "            S_is[c_id] += MM((x - mu_is[c_id]).T, (x - mu_is[c_id]))\n",
    "        Evals, Evecs = LA.eig(np.sum(S_is, axis=0) - S_D)\n",
    "        idx = np.argsort(Evals)\n",
    "        V = Evecs[idx]\n",
    "        m = np.sum([1 for i in Evals if i < -1e-10])\n",
    "        m = max(m, 1)\n",
    "        itr += 1\n",
    "    return C, V, m"
   ]
  },
  {
   "cell_type": "code",
   "execution_count": null,
   "metadata": {},
   "outputs": [],
   "source": [
    "X, Y = load_dataset('wine')\n",
    "X = normalize_dataset(X)\n",
    "for i in range(10):\n",
    "    C, V, m = sub_kmeans(X, 3)\n",
    "    X_rotated = MM(V, X.T)\n",
    "    print(m)\n",
    "    plt.scatter(X_rotated[0], X_rotated[1], c=C)\n",
    "    plt.show()"
   ]
  },
  {
   "cell_type": "code",
   "execution_count": null,
   "metadata": {},
   "outputs": [],
   "source": [
    "plt.scatter(X[:, 0], X[:, 1], c=C)\n",
    "plt.show()"
   ]
  },
  {
   "cell_type": "code",
   "execution_count": null,
   "metadata": {},
   "outputs": [],
   "source": []
  },
  {
   "cell_type": "code",
   "execution_count": null,
   "metadata": {},
   "outputs": [],
   "source": []
  },
  {
   "cell_type": "code",
   "execution_count": null,
   "metadata": {
    "collapsed": true
   },
   "outputs": [],
   "source": []
  }
 ],
 "metadata": {
  "kernelspec": {
   "display_name": "Python 2",
   "language": "python",
   "name": "python2"
  },
  "language_info": {
   "codemirror_mode": {
    "name": "ipython",
    "version": 2
   },
   "file_extension": ".py",
   "mimetype": "text/x-python",
   "name": "python",
   "nbconvert_exporter": "python",
   "pygments_lexer": "ipython2",
   "version": "2.7.14"
  }
 },
 "nbformat": 4,
 "nbformat_minor": 2
}
